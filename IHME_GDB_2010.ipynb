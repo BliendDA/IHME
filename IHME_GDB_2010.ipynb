{
 "cells": [
  {
   "cell_type": "code",
   "execution_count": 2,
   "id": "80f2d9e2",
   "metadata": {},
   "outputs": [
    {
     "name": "stdout",
     "output_type": "stream",
     "text": [
      "  Country Code Country Name  Year  Age Group     Sex Number of Deaths  \\\n",
      "0          AFG  Afghanistan  1970   0-6 days    Male           19,241   \n",
      "1          AFG  Afghanistan  1970   0-6 days  Female           12,600   \n",
      "2          AFG  Afghanistan  1970   0-6 days    Both           31,840   \n",
      "3          AFG  Afghanistan  1970  7-27 days    Male           15,939   \n",
      "4          AFG  Afghanistan  1970  7-27 days  Female           11,287   \n",
      "\n",
      "  Death Rate Per 100,000 Unnamed: 7  Unnamed: 8  Unnamed: 9  Unnamed: 10  \n",
      "0            3,18,292.90        NaN         NaN         NaN          NaN  \n",
      "1            2,19,544.20        NaN         NaN         NaN          NaN  \n",
      "2            2,70,200.70                    NaN         NaN          NaN  \n",
      "3              92,701.00        NaN         NaN         NaN          NaN  \n",
      "4              68,594.50        NaN         NaN         NaN          NaN  \n",
      "<class 'pandas.core.frame.DataFrame'>\n",
      "RangeIndex: 58905 entries, 0 to 58904\n",
      "Data columns (total 11 columns):\n",
      " #   Column                  Non-Null Count  Dtype  \n",
      "---  ------                  --------------  -----  \n",
      " 0   Country Code            58905 non-null  object \n",
      " 1   Country Name            58905 non-null  object \n",
      " 2   Year                    58905 non-null  int64  \n",
      " 3   Age Group               58905 non-null  object \n",
      " 4   Sex                     58905 non-null  object \n",
      " 5   Number of Deaths        58905 non-null  object \n",
      " 6   Death Rate Per 100,000  58905 non-null  object \n",
      " 7   Unnamed: 7              1 non-null      object \n",
      " 8   Unnamed: 8              0 non-null      float64\n",
      " 9   Unnamed: 9              0 non-null      float64\n",
      " 10  Unnamed: 10             0 non-null      float64\n",
      "dtypes: float64(3), int64(1), object(7)\n",
      "memory usage: 4.9+ MB\n",
      "None\n",
      "               Year  Unnamed: 8  Unnamed: 9  Unnamed: 10\n",
      "count  58905.000000         0.0         0.0          0.0\n",
      "mean    1990.000000         NaN         NaN          NaN\n",
      "std       14.142256         NaN         NaN          NaN\n",
      "min     1970.000000         NaN         NaN          NaN\n",
      "25%     1980.000000         NaN         NaN          NaN\n",
      "50%     1990.000000         NaN         NaN          NaN\n",
      "75%     2000.000000         NaN         NaN          NaN\n",
      "max     2010.000000         NaN         NaN          NaN\n",
      "Country Code                  0\n",
      "Country Name                  0\n",
      "Year                          0\n",
      "Age Group                     0\n",
      "Sex                           0\n",
      "Number of Deaths              0\n",
      "Death Rate Per 100,000        0\n",
      "Unnamed: 7                58904\n",
      "Unnamed: 8                58905\n",
      "Unnamed: 9                58905\n",
      "Unnamed: 10               58905\n",
      "dtype: int64\n"
     ]
    }
   ],
   "source": [
    "import pandas as pd\n",
    "df = pd.read_csv(r'C:\\Users\\divaa\\Downloads\\IHME_GBD_2010_MORTALITY_AGE_SPECIFIC_BY_COUNTRY_1970_2010.csv')\n",
    "print(df.head())\n",
    "print(df.info())\n",
    "print(df.describe())\n",
    "print(df.isnull().sum())"
   ]
  },
  {
   "cell_type": "code",
   "execution_count": 3,
   "id": "fb2c1f3a",
   "metadata": {},
   "outputs": [
    {
     "data": {
      "text/html": [
       "<div>\n",
       "<style scoped>\n",
       "    .dataframe tbody tr th:only-of-type {\n",
       "        vertical-align: middle;\n",
       "    }\n",
       "\n",
       "    .dataframe tbody tr th {\n",
       "        vertical-align: top;\n",
       "    }\n",
       "\n",
       "    .dataframe thead th {\n",
       "        text-align: right;\n",
       "    }\n",
       "</style>\n",
       "<table border=\"1\" class=\"dataframe\">\n",
       "  <thead>\n",
       "    <tr style=\"text-align: right;\">\n",
       "      <th></th>\n",
       "      <th>Country Code</th>\n",
       "      <th>Country Name</th>\n",
       "      <th>Year</th>\n",
       "      <th>Age Group</th>\n",
       "      <th>Sex</th>\n",
       "      <th>Number of Deaths</th>\n",
       "      <th>Death Rate Per 100,000</th>\n",
       "      <th>Unnamed: 7</th>\n",
       "      <th>Unnamed: 8</th>\n",
       "      <th>Unnamed: 9</th>\n",
       "      <th>Unnamed: 10</th>\n",
       "    </tr>\n",
       "  </thead>\n",
       "  <tbody>\n",
       "    <tr>\n",
       "      <th>0</th>\n",
       "      <td>AFG</td>\n",
       "      <td>Afghanistan</td>\n",
       "      <td>1970</td>\n",
       "      <td>0-6 days</td>\n",
       "      <td>Male</td>\n",
       "      <td>19,241</td>\n",
       "      <td>3,18,292.90</td>\n",
       "      <td>NaN</td>\n",
       "      <td>NaN</td>\n",
       "      <td>NaN</td>\n",
       "      <td>NaN</td>\n",
       "    </tr>\n",
       "    <tr>\n",
       "      <th>1</th>\n",
       "      <td>AFG</td>\n",
       "      <td>Afghanistan</td>\n",
       "      <td>1970</td>\n",
       "      <td>0-6 days</td>\n",
       "      <td>Female</td>\n",
       "      <td>12,600</td>\n",
       "      <td>2,19,544.20</td>\n",
       "      <td>NaN</td>\n",
       "      <td>NaN</td>\n",
       "      <td>NaN</td>\n",
       "      <td>NaN</td>\n",
       "    </tr>\n",
       "    <tr>\n",
       "      <th>2</th>\n",
       "      <td>AFG</td>\n",
       "      <td>Afghanistan</td>\n",
       "      <td>1970</td>\n",
       "      <td>0-6 days</td>\n",
       "      <td>Both</td>\n",
       "      <td>31,840</td>\n",
       "      <td>2,70,200.70</td>\n",
       "      <td></td>\n",
       "      <td>NaN</td>\n",
       "      <td>NaN</td>\n",
       "      <td>NaN</td>\n",
       "    </tr>\n",
       "    <tr>\n",
       "      <th>3</th>\n",
       "      <td>AFG</td>\n",
       "      <td>Afghanistan</td>\n",
       "      <td>1970</td>\n",
       "      <td>7-27 days</td>\n",
       "      <td>Male</td>\n",
       "      <td>15,939</td>\n",
       "      <td>92,701.00</td>\n",
       "      <td>NaN</td>\n",
       "      <td>NaN</td>\n",
       "      <td>NaN</td>\n",
       "      <td>NaN</td>\n",
       "    </tr>\n",
       "    <tr>\n",
       "      <th>4</th>\n",
       "      <td>AFG</td>\n",
       "      <td>Afghanistan</td>\n",
       "      <td>1970</td>\n",
       "      <td>7-27 days</td>\n",
       "      <td>Female</td>\n",
       "      <td>11,287</td>\n",
       "      <td>68,594.50</td>\n",
       "      <td>NaN</td>\n",
       "      <td>NaN</td>\n",
       "      <td>NaN</td>\n",
       "      <td>NaN</td>\n",
       "    </tr>\n",
       "    <tr>\n",
       "      <th>...</th>\n",
       "      <td>...</td>\n",
       "      <td>...</td>\n",
       "      <td>...</td>\n",
       "      <td>...</td>\n",
       "      <td>...</td>\n",
       "      <td>...</td>\n",
       "      <td>...</td>\n",
       "      <td>...</td>\n",
       "      <td>...</td>\n",
       "      <td>...</td>\n",
       "      <td>...</td>\n",
       "    </tr>\n",
       "    <tr>\n",
       "      <th>58900</th>\n",
       "      <td>ZWE</td>\n",
       "      <td>Zimbabwe</td>\n",
       "      <td>2010</td>\n",
       "      <td>80+ years</td>\n",
       "      <td>Female</td>\n",
       "      <td>7,606</td>\n",
       "      <td>16,179.40</td>\n",
       "      <td>NaN</td>\n",
       "      <td>NaN</td>\n",
       "      <td>NaN</td>\n",
       "      <td>NaN</td>\n",
       "    </tr>\n",
       "    <tr>\n",
       "      <th>58901</th>\n",
       "      <td>ZWE</td>\n",
       "      <td>Zimbabwe</td>\n",
       "      <td>2010</td>\n",
       "      <td>80+ years</td>\n",
       "      <td>Both</td>\n",
       "      <td>13,305</td>\n",
       "      <td>16,633.80</td>\n",
       "      <td>NaN</td>\n",
       "      <td>NaN</td>\n",
       "      <td>NaN</td>\n",
       "      <td>NaN</td>\n",
       "    </tr>\n",
       "    <tr>\n",
       "      <th>58902</th>\n",
       "      <td>ZWE</td>\n",
       "      <td>Zimbabwe</td>\n",
       "      <td>2010</td>\n",
       "      <td>All ages</td>\n",
       "      <td>Male</td>\n",
       "      <td>82,010</td>\n",
       "      <td>1,320.10</td>\n",
       "      <td>NaN</td>\n",
       "      <td>NaN</td>\n",
       "      <td>NaN</td>\n",
       "      <td>NaN</td>\n",
       "    </tr>\n",
       "    <tr>\n",
       "      <th>58903</th>\n",
       "      <td>ZWE</td>\n",
       "      <td>Zimbabwe</td>\n",
       "      <td>2010</td>\n",
       "      <td>All ages</td>\n",
       "      <td>Female</td>\n",
       "      <td>77,420</td>\n",
       "      <td>1,211.20</td>\n",
       "      <td>NaN</td>\n",
       "      <td>NaN</td>\n",
       "      <td>NaN</td>\n",
       "      <td>NaN</td>\n",
       "    </tr>\n",
       "    <tr>\n",
       "      <th>58904</th>\n",
       "      <td>ZWE</td>\n",
       "      <td>Zimbabwe</td>\n",
       "      <td>2010</td>\n",
       "      <td>All ages</td>\n",
       "      <td>Both</td>\n",
       "      <td>1,59,430</td>\n",
       "      <td>1,264.90</td>\n",
       "      <td>NaN</td>\n",
       "      <td>NaN</td>\n",
       "      <td>NaN</td>\n",
       "      <td>NaN</td>\n",
       "    </tr>\n",
       "  </tbody>\n",
       "</table>\n",
       "<p>58905 rows × 11 columns</p>\n",
       "</div>"
      ],
      "text/plain": [
       "      Country Code Country Name  Year  Age Group     Sex Number of Deaths  \\\n",
       "0              AFG  Afghanistan  1970   0-6 days    Male           19,241   \n",
       "1              AFG  Afghanistan  1970   0-6 days  Female           12,600   \n",
       "2              AFG  Afghanistan  1970   0-6 days    Both           31,840   \n",
       "3              AFG  Afghanistan  1970  7-27 days    Male           15,939   \n",
       "4              AFG  Afghanistan  1970  7-27 days  Female           11,287   \n",
       "...            ...          ...   ...        ...     ...              ...   \n",
       "58900          ZWE     Zimbabwe  2010  80+ years  Female            7,606   \n",
       "58901          ZWE     Zimbabwe  2010  80+ years    Both           13,305   \n",
       "58902          ZWE     Zimbabwe  2010   All ages    Male           82,010   \n",
       "58903          ZWE     Zimbabwe  2010   All ages  Female           77,420   \n",
       "58904          ZWE     Zimbabwe  2010   All ages    Both         1,59,430   \n",
       "\n",
       "      Death Rate Per 100,000 Unnamed: 7  Unnamed: 8  Unnamed: 9  Unnamed: 10  \n",
       "0                3,18,292.90        NaN         NaN         NaN          NaN  \n",
       "1                2,19,544.20        NaN         NaN         NaN          NaN  \n",
       "2                2,70,200.70                    NaN         NaN          NaN  \n",
       "3                  92,701.00        NaN         NaN         NaN          NaN  \n",
       "4                  68,594.50        NaN         NaN         NaN          NaN  \n",
       "...                      ...        ...         ...         ...          ...  \n",
       "58900              16,179.40        NaN         NaN         NaN          NaN  \n",
       "58901              16,633.80        NaN         NaN         NaN          NaN  \n",
       "58902               1,320.10        NaN         NaN         NaN          NaN  \n",
       "58903               1,211.20        NaN         NaN         NaN          NaN  \n",
       "58904               1,264.90        NaN         NaN         NaN          NaN  \n",
       "\n",
       "[58905 rows x 11 columns]"
      ]
     },
     "execution_count": 3,
     "metadata": {},
     "output_type": "execute_result"
    }
   ],
   "source": [
    "\n",
    "df['Year'] = df['Year'].astype(int)\n",
    "df"
   ]
  },
  {
   "cell_type": "code",
   "execution_count": 4,
   "id": "9522dc0d",
   "metadata": {},
   "outputs": [
    {
     "name": "stdout",
     "output_type": "stream",
     "text": [
      "Distinct Age Groups in the dataset:\n",
      "0-6 days\n",
      "7-27 days\n",
      "28-364 days\n",
      "1-4 years\n",
      "5-9 years\n",
      "10-14 years\n",
      "15-19 years\n",
      "20-24 years\n",
      "25-29 years\n",
      "30-34 years\n",
      "35-39 years\n",
      "40-44 years\n",
      "45-49 years\n",
      "50-54 years\n",
      "55-59 years\n",
      "60-64 years\n",
      "65-69 years\n",
      "70-74 years\n",
      "75-79 years\n",
      "80+ years\n",
      "All ages\n"
     ]
    }
   ],
   "source": [
    "unique_age_groups = df['Age Group'].unique()\n",
    "\n",
    "# distinct age groups\n",
    "print(\"Distinct Age Groups in the dataset:\")\n",
    "for x in unique_age_groups:\n",
    "    print(x)\n"
   ]
  },
  {
   "cell_type": "markdown",
   "id": "73218a6c",
   "metadata": {},
   "source": [
    "verifying does all year have same category of age in df"
   ]
  },
  {
   "cell_type": "code",
   "execution_count": 5,
   "id": "1f2c16e5",
   "metadata": {},
   "outputs": [
    {
     "data": {
      "text/html": [
       "<div>\n",
       "<style scoped>\n",
       "    .dataframe tbody tr th:only-of-type {\n",
       "        vertical-align: middle;\n",
       "    }\n",
       "\n",
       "    .dataframe tbody tr th {\n",
       "        vertical-align: top;\n",
       "    }\n",
       "\n",
       "    .dataframe thead th {\n",
       "        text-align: right;\n",
       "    }\n",
       "</style>\n",
       "<table border=\"1\" class=\"dataframe\">\n",
       "  <thead>\n",
       "    <tr style=\"text-align: right;\">\n",
       "      <th></th>\n",
       "      <th>0</th>\n",
       "      <th>1</th>\n",
       "      <th>2</th>\n",
       "      <th>3</th>\n",
       "      <th>4</th>\n",
       "      <th>5</th>\n",
       "      <th>6</th>\n",
       "      <th>7</th>\n",
       "      <th>8</th>\n",
       "      <th>9</th>\n",
       "      <th>...</th>\n",
       "      <th>11</th>\n",
       "      <th>12</th>\n",
       "      <th>13</th>\n",
       "      <th>14</th>\n",
       "      <th>15</th>\n",
       "      <th>16</th>\n",
       "      <th>17</th>\n",
       "      <th>18</th>\n",
       "      <th>19</th>\n",
       "      <th>20</th>\n",
       "    </tr>\n",
       "    <tr>\n",
       "      <th>Year</th>\n",
       "      <th></th>\n",
       "      <th></th>\n",
       "      <th></th>\n",
       "      <th></th>\n",
       "      <th></th>\n",
       "      <th></th>\n",
       "      <th></th>\n",
       "      <th></th>\n",
       "      <th></th>\n",
       "      <th></th>\n",
       "      <th></th>\n",
       "      <th></th>\n",
       "      <th></th>\n",
       "      <th></th>\n",
       "      <th></th>\n",
       "      <th></th>\n",
       "      <th></th>\n",
       "      <th></th>\n",
       "      <th></th>\n",
       "      <th></th>\n",
       "      <th></th>\n",
       "    </tr>\n",
       "  </thead>\n",
       "  <tbody>\n",
       "    <tr>\n",
       "      <th>1970</th>\n",
       "      <td>0-6 days</td>\n",
       "      <td>7-27 days</td>\n",
       "      <td>28-364 days</td>\n",
       "      <td>1-4 years</td>\n",
       "      <td>5-9 years</td>\n",
       "      <td>10-14 years</td>\n",
       "      <td>15-19 years</td>\n",
       "      <td>20-24 years</td>\n",
       "      <td>25-29 years</td>\n",
       "      <td>30-34 years</td>\n",
       "      <td>...</td>\n",
       "      <td>40-44 years</td>\n",
       "      <td>45-49 years</td>\n",
       "      <td>50-54 years</td>\n",
       "      <td>55-59 years</td>\n",
       "      <td>60-64 years</td>\n",
       "      <td>65-69 years</td>\n",
       "      <td>70-74 years</td>\n",
       "      <td>75-79 years</td>\n",
       "      <td>80+ years</td>\n",
       "      <td>All ages</td>\n",
       "    </tr>\n",
       "    <tr>\n",
       "      <th>1980</th>\n",
       "      <td>0-6 days</td>\n",
       "      <td>7-27 days</td>\n",
       "      <td>28-364 days</td>\n",
       "      <td>1-4 years</td>\n",
       "      <td>5-9 years</td>\n",
       "      <td>10-14 years</td>\n",
       "      <td>15-19 years</td>\n",
       "      <td>20-24 years</td>\n",
       "      <td>25-29 years</td>\n",
       "      <td>30-34 years</td>\n",
       "      <td>...</td>\n",
       "      <td>40-44 years</td>\n",
       "      <td>45-49 years</td>\n",
       "      <td>50-54 years</td>\n",
       "      <td>55-59 years</td>\n",
       "      <td>60-64 years</td>\n",
       "      <td>65-69 years</td>\n",
       "      <td>70-74 years</td>\n",
       "      <td>75-79 years</td>\n",
       "      <td>80+ years</td>\n",
       "      <td>All ages</td>\n",
       "    </tr>\n",
       "    <tr>\n",
       "      <th>1990</th>\n",
       "      <td>0-6 days</td>\n",
       "      <td>7-27 days</td>\n",
       "      <td>28-364 days</td>\n",
       "      <td>1-4 years</td>\n",
       "      <td>5-9 years</td>\n",
       "      <td>10-14 years</td>\n",
       "      <td>15-19 years</td>\n",
       "      <td>20-24 years</td>\n",
       "      <td>25-29 years</td>\n",
       "      <td>30-34 years</td>\n",
       "      <td>...</td>\n",
       "      <td>40-44 years</td>\n",
       "      <td>45-49 years</td>\n",
       "      <td>50-54 years</td>\n",
       "      <td>55-59 years</td>\n",
       "      <td>60-64 years</td>\n",
       "      <td>65-69 years</td>\n",
       "      <td>70-74 years</td>\n",
       "      <td>75-79 years</td>\n",
       "      <td>80+ years</td>\n",
       "      <td>All ages</td>\n",
       "    </tr>\n",
       "    <tr>\n",
       "      <th>2000</th>\n",
       "      <td>0-6 days</td>\n",
       "      <td>7-27 days</td>\n",
       "      <td>28-364 days</td>\n",
       "      <td>1-4 years</td>\n",
       "      <td>5-9 years</td>\n",
       "      <td>10-14 years</td>\n",
       "      <td>15-19 years</td>\n",
       "      <td>20-24 years</td>\n",
       "      <td>25-29 years</td>\n",
       "      <td>30-34 years</td>\n",
       "      <td>...</td>\n",
       "      <td>40-44 years</td>\n",
       "      <td>45-49 years</td>\n",
       "      <td>50-54 years</td>\n",
       "      <td>55-59 years</td>\n",
       "      <td>60-64 years</td>\n",
       "      <td>65-69 years</td>\n",
       "      <td>70-74 years</td>\n",
       "      <td>75-79 years</td>\n",
       "      <td>80+ years</td>\n",
       "      <td>All ages</td>\n",
       "    </tr>\n",
       "    <tr>\n",
       "      <th>2010</th>\n",
       "      <td>0-6 days</td>\n",
       "      <td>7-27 days</td>\n",
       "      <td>28-364 days</td>\n",
       "      <td>1-4 years</td>\n",
       "      <td>5-9 years</td>\n",
       "      <td>10-14 years</td>\n",
       "      <td>15-19 years</td>\n",
       "      <td>20-24 years</td>\n",
       "      <td>25-29 years</td>\n",
       "      <td>30-34 years</td>\n",
       "      <td>...</td>\n",
       "      <td>40-44 years</td>\n",
       "      <td>45-49 years</td>\n",
       "      <td>50-54 years</td>\n",
       "      <td>55-59 years</td>\n",
       "      <td>60-64 years</td>\n",
       "      <td>65-69 years</td>\n",
       "      <td>70-74 years</td>\n",
       "      <td>75-79 years</td>\n",
       "      <td>80+ years</td>\n",
       "      <td>All ages</td>\n",
       "    </tr>\n",
       "  </tbody>\n",
       "</table>\n",
       "<p>5 rows × 21 columns</p>\n",
       "</div>"
      ],
      "text/plain": [
       "            0          1            2          3          4            5   \\\n",
       "Year                                                                        \n",
       "1970  0-6 days  7-27 days  28-364 days  1-4 years  5-9 years  10-14 years   \n",
       "1980  0-6 days  7-27 days  28-364 days  1-4 years  5-9 years  10-14 years   \n",
       "1990  0-6 days  7-27 days  28-364 days  1-4 years  5-9 years  10-14 years   \n",
       "2000  0-6 days  7-27 days  28-364 days  1-4 years  5-9 years  10-14 years   \n",
       "2010  0-6 days  7-27 days  28-364 days  1-4 years  5-9 years  10-14 years   \n",
       "\n",
       "               6            7            8            9   ...           11  \\\n",
       "Year                                                      ...                \n",
       "1970  15-19 years  20-24 years  25-29 years  30-34 years  ...  40-44 years   \n",
       "1980  15-19 years  20-24 years  25-29 years  30-34 years  ...  40-44 years   \n",
       "1990  15-19 years  20-24 years  25-29 years  30-34 years  ...  40-44 years   \n",
       "2000  15-19 years  20-24 years  25-29 years  30-34 years  ...  40-44 years   \n",
       "2010  15-19 years  20-24 years  25-29 years  30-34 years  ...  40-44 years   \n",
       "\n",
       "               12           13           14           15           16  \\\n",
       "Year                                                                    \n",
       "1970  45-49 years  50-54 years  55-59 years  60-64 years  65-69 years   \n",
       "1980  45-49 years  50-54 years  55-59 years  60-64 years  65-69 years   \n",
       "1990  45-49 years  50-54 years  55-59 years  60-64 years  65-69 years   \n",
       "2000  45-49 years  50-54 years  55-59 years  60-64 years  65-69 years   \n",
       "2010  45-49 years  50-54 years  55-59 years  60-64 years  65-69 years   \n",
       "\n",
       "               17           18         19        20  \n",
       "Year                                                 \n",
       "1970  70-74 years  75-79 years  80+ years  All ages  \n",
       "1980  70-74 years  75-79 years  80+ years  All ages  \n",
       "1990  70-74 years  75-79 years  80+ years  All ages  \n",
       "2000  70-74 years  75-79 years  80+ years  All ages  \n",
       "2010  70-74 years  75-79 years  80+ years  All ages  \n",
       "\n",
       "[5 rows x 21 columns]"
      ]
     },
     "execution_count": 5,
     "metadata": {},
     "output_type": "execute_result"
    }
   ],
   "source": [
    "age_groups_by_year = df.groupby('Year')['Age Group'].unique().reset_index()\n",
    "age_groups_by_year_df = pd.DataFrame({\n",
    "    year: age_groups_by_year[age_groups_by_year['Year'] == year]['Age Group'].values[0]\n",
    "    for year in age_groups_by_year['Year']\n",
    "})\n",
    "\n",
    "age_groups_by_year_df = age_groups_by_year_df.T\n",
    "\n",
    "age_groups_by_year_df.index.name = 'Year'\n",
    "\n",
    "age_groups_by_year_df\n"
   ]
  },
  {
   "cell_type": "code",
   "execution_count": 6,
   "id": "4f87a0cb",
   "metadata": {},
   "outputs": [],
   "source": [
    "\n",
    "pd.set_option('display.max_rows', None)    # Show all rows\n",
    "pd.set_option('display.max_columns', None) # Show all columns\n",
    "pd.set_option('display.width', None)       # Disable line wrapping for wide DataFrames\n",
    "pd.set_option('display.max_colwidth', None) # Show full column width\n"
   ]
  },
  {
   "cell_type": "code",
   "execution_count": 31,
   "id": "2618df65",
   "metadata": {},
   "outputs": [
    {
     "data": {
      "text/html": [
       "<div>\n",
       "<style scoped>\n",
       "    .dataframe tbody tr th:only-of-type {\n",
       "        vertical-align: middle;\n",
       "    }\n",
       "\n",
       "    .dataframe tbody tr th {\n",
       "        vertical-align: top;\n",
       "    }\n",
       "\n",
       "    .dataframe thead th {\n",
       "        text-align: right;\n",
       "    }\n",
       "</style>\n",
       "<table border=\"1\" class=\"dataframe\">\n",
       "  <thead>\n",
       "    <tr style=\"text-align: right;\">\n",
       "      <th></th>\n",
       "      <th>Country Name</th>\n",
       "      <th>Year</th>\n",
       "      <th>Death Rate Per 100,000</th>\n",
       "    </tr>\n",
       "  </thead>\n",
       "  <tbody>\n",
       "    <tr>\n",
       "      <th>0</th>\n",
       "      <td>Afghanistan</td>\n",
       "      <td>1970</td>\n",
       "      <td>20698.087302</td>\n",
       "    </tr>\n",
       "    <tr>\n",
       "      <th>1</th>\n",
       "      <td>Afghanistan</td>\n",
       "      <td>1980</td>\n",
       "      <td>16202.161905</td>\n",
       "    </tr>\n",
       "    <tr>\n",
       "      <th>2</th>\n",
       "      <td>Afghanistan</td>\n",
       "      <td>1990</td>\n",
       "      <td>12241.011111</td>\n",
       "    </tr>\n",
       "    <tr>\n",
       "      <th>3</th>\n",
       "      <td>Afghanistan</td>\n",
       "      <td>2000</td>\n",
       "      <td>12085.296825</td>\n",
       "    </tr>\n",
       "    <tr>\n",
       "      <th>4</th>\n",
       "      <td>Afghanistan</td>\n",
       "      <td>2010</td>\n",
       "      <td>9090.528571</td>\n",
       "    </tr>\n",
       "    <tr>\n",
       "      <th>5</th>\n",
       "      <td>Albania</td>\n",
       "      <td>1970</td>\n",
       "      <td>3703.938095</td>\n",
       "    </tr>\n",
       "    <tr>\n",
       "      <th>6</th>\n",
       "      <td>Albania</td>\n",
       "      <td>1980</td>\n",
       "      <td>3419.473016</td>\n",
       "    </tr>\n",
       "    <tr>\n",
       "      <th>7</th>\n",
       "      <td>Albania</td>\n",
       "      <td>1990</td>\n",
       "      <td>3067.988889</td>\n",
       "    </tr>\n",
       "    <tr>\n",
       "      <th>8</th>\n",
       "      <td>Albania</td>\n",
       "      <td>2000</td>\n",
       "      <td>2826.514286</td>\n",
       "    </tr>\n",
       "    <tr>\n",
       "      <th>9</th>\n",
       "      <td>Albania</td>\n",
       "      <td>2010</td>\n",
       "      <td>2257.311111</td>\n",
       "    </tr>\n",
       "  </tbody>\n",
       "</table>\n",
       "</div>"
      ],
      "text/plain": [
       "  Country Name  Year  Death Rate Per 100,000\n",
       "0  Afghanistan  1970            20698.087302\n",
       "1  Afghanistan  1980            16202.161905\n",
       "2  Afghanistan  1990            12241.011111\n",
       "3  Afghanistan  2000            12085.296825\n",
       "4  Afghanistan  2010             9090.528571\n",
       "5      Albania  1970             3703.938095\n",
       "6      Albania  1980             3419.473016\n",
       "7      Albania  1990             3067.988889\n",
       "8      Albania  2000             2826.514286\n",
       "9      Albania  2010             2257.311111"
      ]
     },
     "execution_count": 31,
     "metadata": {},
     "output_type": "execute_result"
    }
   ],
   "source": [
    "\n",
    "df['Death Rate Per 100,000'] = df['Death Rate Per 100,000'].replace({',': ''}, regex=True)\n",
    "df['Death Rate Per 100,000'] = pd.to_numeric(df['Death Rate Per 100,000'], errors='coerce')\n",
    "\n",
    "avg_death_rate = df.groupby(['Country Name', 'Year'])['Death Rate Per 100,000'].mean().reset_index()\n",
    "\n",
    "avg_death_rate.head(10)\n",
    "\n",
    "\n"
   ]
  },
  {
   "cell_type": "code",
   "execution_count": 8,
   "id": "203f5253",
   "metadata": {},
   "outputs": [
    {
     "name": "stdout",
     "output_type": "stream",
     "text": [
      "object\n"
     ]
    }
   ],
   "source": [
    "print(df['Number of Deaths'].dtype)\n"
   ]
  },
  {
   "cell_type": "code",
   "execution_count": 9,
   "id": "fb2af3d3",
   "metadata": {},
   "outputs": [
    {
     "name": "stdout",
     "output_type": "stream",
     "text": [
      "Total Deaths by Age Group and Sex:\n",
      "      Age Group     Sex  Number of Deaths\n",
      "0      0-6 days    Both          14939574\n",
      "1      0-6 days  Female           6170816\n",
      "2      0-6 days    Male           8768740\n",
      "3     1-4 years    Both          18341384\n",
      "4     1-4 years  Female           8541885\n",
      "5     1-4 years    Male           9799497\n",
      "6   10-14 years    Both           2257405\n",
      "7   10-14 years  Female           1034706\n",
      "8   10-14 years    Male           1222721\n",
      "9   15-19 years    Both           3584053\n",
      "10  15-19 years  Female           1574548\n",
      "11  15-19 years    Male           2009490\n",
      "12  20-24 years    Both           4686591\n",
      "13  20-24 years  Female           1986733\n",
      "14  20-24 years    Male           2699881\n",
      "15  25-29 years    Both           4939511\n",
      "16  25-29 years  Female           2086776\n",
      "17  25-29 years    Male           2852741\n",
      "18  28-364 days    Both          17858504\n",
      "19  28-364 days  Female           8143367\n",
      "20  28-364 days    Male           9715165\n",
      "21  30-34 years    Both           5150454\n",
      "22  30-34 years  Female           2115593\n",
      "23  30-34 years    Male           3034879\n",
      "24  35-39 years    Both           5859297\n",
      "25  35-39 years  Female           2391097\n",
      "26  35-39 years    Male           3468215\n",
      "27  40-44 years    Both           6660430\n",
      "28  40-44 years  Female           2569468\n",
      "29  40-44 years    Male           4090982\n",
      "30  45-49 years    Both           8032689\n",
      "31  45-49 years  Female           3046823\n",
      "32  45-49 years    Male           4985852\n",
      "33    5-9 years    Both           3429188\n",
      "34    5-9 years  Female           1560274\n",
      "35    5-9 years    Male           1868907\n",
      "36  50-54 years    Both          10081483\n",
      "37  50-54 years  Female           3815622\n",
      "38  50-54 years    Male           6265872\n",
      "39  55-59 years    Both          12401146\n",
      "40  55-59 years  Female           4794538\n",
      "41  55-59 years    Male           7606616\n",
      "42  60-64 years    Both          15607135\n",
      "43  60-64 years  Female           6310579\n",
      "44  60-64 years    Male           9296550\n",
      "45  65-69 years    Both          18101171\n",
      "46  65-69 years  Female           7774154\n",
      "47  65-69 years    Male          10327020\n",
      "48    7-27 days    Both           6395830\n",
      "49    7-27 days  Female           2773008\n",
      "50    7-27 days    Male           3622818\n",
      "51  70-74 years    Both          20544791\n",
      "52  70-74 years  Female           9502466\n",
      "53  70-74 years    Male          11042341\n",
      "54  75-79 years    Both          20623983\n",
      "55  75-79 years  Female          10384302\n",
      "56  75-79 years    Male          10239679\n",
      "57    80+ years    Both          37744291\n",
      "58    80+ years  Female          22692004\n",
      "59    80+ years    Male          15052289\n",
      "60     All ages    Both         237238928\n",
      "61     All ages  Female         109268706\n",
      "62     All ages    Male         127970207\n"
     ]
    }
   ],
   "source": [
    "\n",
    "df['Number of Deaths'] = df['Number of Deaths'].replace({',': ''}, regex=True)\n",
    "df['Number of Deaths'] = pd.to_numeric(df['Number of Deaths'], errors='coerce')\n",
    "\n",
    "\n",
    "total_deaths = df.groupby(['Age Group', 'Sex'])['Number of Deaths'].sum().reset_index()\n",
    "\n",
    "total_deaths['Number of Deaths'] = total_deaths['Number of Deaths'].astype(int)\n",
    "\n",
    "print(\"Total Deaths by Age Group and Sex:\")\n",
    "print(total_deaths)\n",
    "\n"
   ]
  },
  {
   "cell_type": "code",
   "execution_count": 10,
   "id": "d337a807",
   "metadata": {},
   "outputs": [
    {
     "data": {
      "text/html": [
       "<div>\n",
       "<style scoped>\n",
       "    .dataframe tbody tr th:only-of-type {\n",
       "        vertical-align: middle;\n",
       "    }\n",
       "\n",
       "    .dataframe tbody tr th {\n",
       "        vertical-align: top;\n",
       "    }\n",
       "\n",
       "    .dataframe thead th {\n",
       "        text-align: right;\n",
       "    }\n",
       "</style>\n",
       "<table border=\"1\" class=\"dataframe\">\n",
       "  <thead>\n",
       "    <tr style=\"text-align: right;\">\n",
       "      <th></th>\n",
       "      <th>Year</th>\n",
       "      <th>Number of Deaths</th>\n",
       "    </tr>\n",
       "  </thead>\n",
       "  <tbody>\n",
       "    <tr>\n",
       "      <th>0</th>\n",
       "      <td>1970</td>\n",
       "      <td>172866152</td>\n",
       "    </tr>\n",
       "    <tr>\n",
       "      <th>1</th>\n",
       "      <td>1980</td>\n",
       "      <td>175767051</td>\n",
       "    </tr>\n",
       "    <tr>\n",
       "      <th>2</th>\n",
       "      <td>1990</td>\n",
       "      <td>185702142</td>\n",
       "    </tr>\n",
       "    <tr>\n",
       "      <th>3</th>\n",
       "      <td>2000</td>\n",
       "      <td>204052611</td>\n",
       "    </tr>\n",
       "    <tr>\n",
       "      <th>4</th>\n",
       "      <td>2010</td>\n",
       "      <td>210567809</td>\n",
       "    </tr>\n",
       "  </tbody>\n",
       "</table>\n",
       "</div>"
      ],
      "text/plain": [
       "   Year  Number of Deaths\n",
       "0  1970         172866152\n",
       "1  1980         175767051\n",
       "2  1990         185702142\n",
       "3  2000         204052611\n",
       "4  2010         210567809"
      ]
     },
     "execution_count": 10,
     "metadata": {},
     "output_type": "execute_result"
    }
   ],
   "source": [
    "import matplotlib.pyplot as plt\n",
    "import seaborn as sns\n",
    "\n",
    "yearly_deaths = df.groupby('Year')['Number of Deaths'].sum().reset_index()\n",
    "yearly_deaths\n",
    "\n"
   ]
  },
  {
   "cell_type": "markdown",
   "id": "e295fdc8",
   "metadata": {},
   "source": [
    "Trend Analysis Over Years"
   ]
  },
  {
   "cell_type": "code",
   "execution_count": 11,
   "id": "a1cc7d5c",
   "metadata": {},
   "outputs": [
    {
     "data": {
      "image/png": "[encoded data removed]",
      "text/plain": [
       "<Figure size 864x432 with 1 Axes>"
      ]
     },
     "metadata": {
      "needs_background": "light"
     },
     "output_type": "display_data"
    }
   ],
   "source": [
    "# Time Series Analysis\n",
    "plt.figure(figsize=(12, 6))\n",
    "sns.lineplot(data=yearly_deaths, x='Year', y='Number of Deaths', marker='o')\n",
    "plt.title('Total Deaths Over the Years')\n",
    "plt.xlabel('Year')\n",
    "plt.ylabel('Total Number of Deaths')\n",
    "plt.xticks(rotation=45)\n",
    "plt.tight_layout()\n",
    "plt.show()"
   ]
  },
  {
   "cell_type": "markdown",
   "id": "594025c6",
   "metadata": {},
   "source": [
    "Sex-Based Analysis"
   ]
  },
  {
   "cell_type": "code",
   "execution_count": 12,
   "id": "8df61d14",
   "metadata": {},
   "outputs": [
    {
     "data": {
      "image/png": "[encoded data removed]",
      "text/plain": [
       "<Figure size 864x432 with 1 Axes>"
      ]
     },
     "metadata": {
      "needs_background": "light"
     },
     "output_type": "display_data"
    }
   ],
   "source": [
    "sex_deaths = df.groupby('Sex')['Number of Deaths'].sum().reset_index()\n",
    "\n",
    "plt.figure(figsize=(12, 6))\n",
    "sns.barplot(data=sex_deaths, x='Sex', y='Number of Deaths', palette='pastel')\n",
    "plt.title('Total Deaths by Sex')\n",
    "plt.xlabel('Sex')\n",
    "plt.ylabel('Total Number of Deaths')\n",
    "plt.tight_layout()\n",
    "plt.show()\n"
   ]
  },
  {
   "cell_type": "markdown",
   "id": "9fc8378f",
   "metadata": {},
   "source": [
    "Gender Distribution of Deaths in Top 5 Countries"
   ]
  },
  {
   "cell_type": "code",
   "execution_count": 13,
   "id": "9f12294d",
   "metadata": {},
   "outputs": [
    {
     "data": {
      "image/png": "[encoded data removed]",
      "text/plain": [
       "<Figure size 864x432 with 1 Axes>"
      ]
     },
     "metadata": {
      "needs_background": "light"
     },
     "output_type": "display_data"
    }
   ],
   "source": [
    "#top 5 countries by total deaths\n",
    "top_5_countries = df.groupby('Country Name')['Number of Deaths'].sum().nlargest(5).index\n",
    "\n",
    "# Filter out 'Both' from the 'Sex' column\n",
    "filtered_df = df[df['Sex'] != 'Both']\n",
    "\n",
    "# total deaths by sex in the top 5 countries\n",
    "gender_death_top_5 = filtered_df[filtered_df['Country Name'].isin(top_5_countries)].groupby(['Country Name', 'Sex'])['Number of Deaths'].sum().reset_index()\n",
    "\n",
    "# Plotting\n",
    "plt.figure(figsize=(12, 6))\n",
    "sns.barplot(data=gender_death_top_5, x='Country Name', y='Number of Deaths', hue='Sex', palette='pastel')\n",
    "plt.title('Gender Distribution of Deaths in Top 5 Countries')\n",
    "plt.xlabel('Country')\n",
    "plt.ylabel('Total Number of Deaths')\n",
    "plt.xticks(rotation=45)\n",
    "plt.tight_layout()\n",
    "plt.show()\n"
   ]
  },
  {
   "cell_type": "markdown",
   "id": "7ea696fd",
   "metadata": {},
   "source": [
    "Age Group Comparison"
   ]
  },
  {
   "cell_type": "code",
   "execution_count": 14,
   "id": "8b00afa0",
   "metadata": {},
   "outputs": [
    {
     "data": {
      "image/png": "[encoded data removed]",
      "text/plain": [
       "<Figure size 864x432 with 1 Axes>"
      ]
     },
     "metadata": {
      "needs_background": "light"
     },
     "output_type": "display_data"
    }
   ],
   "source": [
    "# data by Age Group and summing Number of Deaths\n",
    "age_group_deaths = df.groupby('Age Group')['Number of Deaths'].sum().reset_index()\n",
    "age_group_deaths = age_group_deaths[age_group_deaths['Age Group'] != 'All ages']\n",
    "\n",
    "\n",
    "plt.figure(figsize=(12, 6))\n",
    "sns.barplot(data=age_group_deaths, x='Age Group', y='Number of Deaths', palette='viridis')\n",
    "plt.title('Total Deaths by Age Group')\n",
    "plt.xlabel('Age Group')\n",
    "plt.ylabel('Total Number of Deaths')\n",
    "plt.xticks(rotation=45)\n",
    "plt.tight_layout()\n",
    "plt.show()\n"
   ]
  },
  {
   "cell_type": "code",
   "execution_count": 15,
   "id": "5b8df23b",
   "metadata": {},
   "outputs": [
    {
     "data": {
      "image/png": "[encoded data removed]",
      "text/plain": [
       "<Figure size 864x432 with 1 Axes>"
      ]
     },
     "metadata": {
      "needs_background": "light"
     },
     "output_type": "display_data"
    }
   ],
   "source": [
    "# Calculate the death rate per 100,000 by sex and age group\n",
    "sex_age_death_rate = df.groupby(['Sex', 'Age Group'])['Death Rate Per 100,000'].mean().reset_index()\n",
    "\n",
    "# Plotting\n",
    "plt.figure(figsize=(12, 6))\n",
    "sns.barplot(data=sex_age_death_rate, x='Age Group', y='Death Rate Per 100,000', hue='Sex', palette='cool')\n",
    "plt.title('Death Rate Per 100,000 by Sex and Age Group')\n",
    "plt.xlabel('Age Group')\n",
    "plt.ylabel('Death Rate Per 100,000')\n",
    "plt.xticks(rotation=45)\n",
    "plt.tight_layout()\n",
    "plt.show()"
   ]
  },
  {
   "cell_type": "markdown",
   "id": "23c434a3",
   "metadata": {},
   "source": [
    " Geographical Analysis"
   ]
  },
  {
   "cell_type": "raw",
   "id": "017bc6a1",
   "metadata": {},
   "source": [
    "Country-Wise Comparison"
   ]
  },
  {
   "cell_type": "code",
   "execution_count": 16,
   "id": "d2a01b71",
   "metadata": {},
   "outputs": [
    {
     "data": {
      "image/png": "[encoded data removed]",
      "text/plain": [
       "<Figure size 864x432 with 1 Axes>"
      ]
     },
     "metadata": {
      "needs_background": "light"
     },
     "output_type": "display_data"
    }
   ],
   "source": [
    "country_deaths = df.groupby('Country Name')['Number of Deaths'].sum().reset_index()\n",
    "\n",
    "# Top 10 countries with the highest deaths\n",
    "top_countries = country_deaths.nlargest(10, 'Number of Deaths')\n",
    "\n",
    "# Plotting\n",
    "plt.figure(figsize=(12, 6))\n",
    "sns.barplot(data=top_countries, x='Country Name', y='Number of Deaths', palette='rocket')\n",
    "plt.title('Top 10 Countries with Highest Deaths')\n",
    "plt.xlabel('Country')\n",
    "plt.ylabel('Total Number of Deaths')\n",
    "plt.xticks(rotation=45)\n",
    "plt.tight_layout()\n",
    "plt.show()\n"
   ]
  },
  {
   "cell_type": "code",
   "execution_count": 17,
   "id": "eb74570b",
   "metadata": {},
   "outputs": [
    {
     "data": {
      "image/png": "[encoded data removed]",
      "text/plain": [
       "<Figure size 864x432 with 2 Axes>"
      ]
     },
     "metadata": {},
     "output_type": "display_data"
    }
   ],
   "source": [
    "# Country to get total deaths and average death rate\n",
    "country_deaths = df.groupby('Country Name')['Number of Deaths'].sum().reset_index()\n",
    "country_death_rate = df.groupby('Country Name')['Death Rate Per 100,000'].mean().reset_index()\n",
    "\n",
    "country_comparison = pd.merge(country_deaths, country_death_rate, on='Country Name')\n",
    "country_comparison.columns = ['Country Name', 'Total Deaths', 'Average Death Rate']\n",
    "\n",
    "top_countries_comparison = country_comparison.nlargest(10, 'Total Deaths')\n",
    "\n",
    "fig, ax1 = plt.subplots(figsize=(12, 6))\n",
    "\n",
    "# Bar plot for Total Deaths\n",
    "sns.barplot(data=top_countries_comparison, x='Country Name', y='Total Deaths', ax=ax1, palette='rocket')\n",
    "ax1.set_title('Top 10 Countries with Highest Deaths and Average Death Rate')\n",
    "ax1.set_xlabel('Country')\n",
    "ax1.set_ylabel('Total Number of Deaths', color='blue')\n",
    "ax1.tick_params(axis='y', labelcolor='blue')\n",
    "\n",
    "# Creating a second y-axis for Average Death Rate\n",
    "ax2 = ax1.twinx()\n",
    "sns.lineplot(data=top_countries_comparison, x='Country Name', y='Average Death Rate', ax=ax2, color='orange', marker='o')\n",
    "ax2.set_ylabel('Average Death Rate Per 100,000', color='orange')\n",
    "ax2.tick_params(axis='y', labelcolor='orange')\n",
    "\n",
    "plt.xticks(rotation=45)\n",
    "plt.tight_layout()\n",
    "plt.show()\n"
   ]
  },
  {
   "cell_type": "markdown",
   "id": "8343680a",
   "metadata": {},
   "source": [
    "Trend of Deaths for Top 5 Countries Over Time"
   ]
  },
  {
   "cell_type": "code",
   "execution_count": 18,
   "id": "3174f1d1",
   "metadata": {},
   "outputs": [
    {
     "data": {
      "image/png": "[encoded data removed]",
      "text/plain": [
       "<Figure size 864x432 with 1 Axes>"
      ]
     },
     "metadata": {
      "needs_background": "light"
     },
     "output_type": "display_data"
    }
   ],
   "source": [
    "# Calculate total deaths by country\n",
    "top_5_countries = df.groupby('Country Name')['Number of Deaths'].sum().nlargest(5).index\n",
    "\n",
    "top_5_countries_data = df[df['Country Name'].isin(top_5_countries)]\n",
    "\n",
    "\n",
    "yearly_deaths_top_5 = top_5_countries_data.groupby(['Year', 'Country Name'])['Number of Deaths'].sum().reset_index()\n",
    "\n",
    "# Plotting\n",
    "plt.figure(figsize=(12, 6))\n",
    "sns.lineplot(data=yearly_deaths_top_5, x='Year', y='Number of Deaths', hue='Country Name', marker='o')\n",
    "plt.title('Trend of Deaths Over Time for Top 5 Countries')\n",
    "plt.xlabel('Year')\n",
    "plt.ylabel('Number of Deaths')\n",
    "plt.xticks(rotation=45)\n",
    "plt.tight_layout()\n",
    "plt.show()"
   ]
  },
  {
   "cell_type": "markdown",
   "id": "06fe046c",
   "metadata": {},
   "source": [
    "\n"
   ]
  },
  {
   "cell_type": "code",
   "execution_count": 19,
   "id": "1772e74a",
   "metadata": {},
   "outputs": [
    {
     "name": "stdout",
     "output_type": "stream",
     "text": [
      "T-statistic: 1.7236274282573487, P-value: 0.08478299512285009\n"
     ]
    }
   ],
   "source": [
    "from scipy import stats\n",
    "\n",
    "male_deaths = df[df['Sex'] == 'Male']['Number of Deaths']\n",
    "female_deaths = df[df['Sex'] == 'Female']['Number of Deaths']\n",
    "\n",
    "t_stat, p_value = stats.ttest_ind(male_deaths.dropna(), female_deaths.dropna())\n",
    "print(f'T-statistic: {t_stat}, P-value: {p_value}')\n"
   ]
  },
  {
   "cell_type": "markdown",
   "id": "6f5c5d47",
   "metadata": {},
   "source": [
    "#T-statistic shows there is a difference in the number of deaths between males and females.\n",
    "#P-value tells us that the difference is likely just random and not meaningful."
   ]
  },
  {
   "cell_type": "code",
   "execution_count": 20,
   "id": "e0042d51",
   "metadata": {},
   "outputs": [],
   "source": [
    "\n",
    "if 'Year' in df.columns and 'Number of Deaths' in df.columns:\n",
    "    # Group by 'Year' and sum 'Number of Deaths'\n",
    "    yearly_deaths = df.groupby('Year')['Number of Deaths'].sum().reset_index()\n",
    "else:\n",
    "    print(\"Columns 'Year' and 'Number of Deaths' not found in DataFrame\")\n",
    "\n"
   ]
  },
  {
   "cell_type": "code",
   "execution_count": 21,
   "id": "f7d901ba",
   "metadata": {},
   "outputs": [
    {
     "name": "stdout",
     "output_type": "stream",
     "text": [
      "   Year  Number of Deaths\n",
      "0  1970             19241\n",
      "1  1970             12600\n",
      "2  1970             31840\n",
      "3  1970             15939\n",
      "4  1970             11287\n"
     ]
    }
   ],
   "source": [
    "print(df[['Year', 'Number of Deaths']].head())  # Inspect the original data\n"
   ]
  },
  {
   "cell_type": "code",
   "execution_count": 22,
   "id": "0c573e3d",
   "metadata": {},
   "outputs": [],
   "source": [
    "\n",
    "df = df.dropna(subset=['Year', 'Number of Deaths'])\n",
    "\n",
    "df['Year'] = pd.to_numeric(df['Year'], errors='coerce')\n",
    "\n",
    "yearly_deaths = df.groupby('Year')['Number of Deaths'].sum().reset_index()\n"
   ]
  },
  {
   "cell_type": "code",
   "execution_count": 23,
   "id": "daa58e32",
   "metadata": {},
   "outputs": [
    {
     "name": "stdout",
     "output_type": "stream",
     "text": [
      "   Year  Number of Deaths\n",
      "0  1970         172866152\n",
      "1  1980         175767051\n",
      "2  1990         185702142\n",
      "3  2000         204052611\n",
      "4  2010         210567809\n",
      "(5, 2)\n"
     ]
    }
   ],
   "source": [
    "print(yearly_deaths.head())\n",
    "print(yearly_deaths.shape)\n"
   ]
  },
  {
   "cell_type": "code",
   "execution_count": 24,
   "id": "54217390",
   "metadata": {},
   "outputs": [
    {
     "data": {
      "image/png": "[encoded data removed]",
      "text/plain": [
       "<Figure size 864x432 with 1 Axes>"
      ]
     },
     "metadata": {
      "needs_background": "light"
     },
     "output_type": "display_data"
    }
   ],
   "source": [
    "from sklearn.linear_model import LinearRegression\n",
    "import numpy as np\n",
    "import matplotlib.pyplot as plt\n",
    "\n",
    "# Prepare data\n",
    "X = yearly_deaths['Year'].values.reshape(-1, 1)\n",
    "y = yearly_deaths['Number of Deaths'].values\n",
    "\n",
    "# Ensure that X and y contain data\n",
    "if X.size == 0 or y.size == 0:\n",
    "    raise ValueError(\"X or y contains no data. Please check the dataset.\")\n",
    "\n",
    "# Fit\n",
    "model = LinearRegression()\n",
    "model.fit(X, y)\n",
    "\n",
    "# Predict\n",
    "future_years = np.array(range(2011, 2026)).reshape(-1, 1)\n",
    "predictions = model.predict(future_years)\n",
    "\n",
    "# Plotting\n",
    "plt.figure(figsize=(12, 6))\n",
    "plt.plot(yearly_deaths['Year'], yearly_deaths['Number of Deaths'], marker='o', label='Historical Data')\n",
    "plt.plot(future_years, predictions, marker='o', linestyle='--', color='orange', label='Predictions')\n",
    "plt.title('Death Predictions for 2011-2025')\n",
    "plt.xlabel('Year')\n",
    "plt.ylabel('Number of Deaths')\n",
    "plt.legend()\n",
    "plt.xticks(rotation=45)\n",
    "plt.tight_layout()\n",
    "plt.show()\n"
   ]
  },
  {
   "cell_type": "code",
   "execution_count": null,
   "id": "c640dd5a",
   "metadata": {},
   "outputs": [],
   "source": []
  },
  {
   "cell_type": "code",
   "execution_count": 25,
   "id": "cfc5d6ab",
   "metadata": {},
   "outputs": [
    {
     "name": "stdout",
     "output_type": "stream",
     "text": [
      "   Year  Total Deaths (in millions)\n",
      "0  1970                  172.866152\n",
      "1  1980                  175.767051\n",
      "2  1990                  185.702142\n",
      "3  2000                  204.052611\n",
      "4  2010                  210.567809\n"
     ]
    }
   ],
   "source": [
    "import pandas as pd\n",
    "\n",
    "deaths_per_year = df.groupby('Year')['Number of Deaths'].sum().reset_index()\n",
    "\n",
    "# Convert 'Total Deaths' to millions\n",
    "deaths_per_year['Total Deaths (in millions)'] = deaths_per_year['Number of Deaths'] / 1_000_000\n",
    "\n",
    "# Drop the original 'Number of Deaths' column if you don't need it\n",
    "deaths_per_year.drop(columns=['Number of Deaths'], inplace=True)\n",
    "\n",
    "# Display the result\n",
    "print(deaths_per_year)\n"
   ]
  },
  {
   "cell_type": "code",
   "execution_count": 26,
   "id": "18fca0c2",
   "metadata": {},
   "outputs": [
    {
     "name": "stdout",
     "output_type": "stream",
     "text": [
      "   Year  Death Rate Per Million\n",
      "0  1970              984.206221\n",
      "1  1980              809.655411\n",
      "2  1990              676.776020\n",
      "3  2000              585.482619\n",
      "4  2010              475.312958\n"
     ]
    }
   ],
   "source": [
    "import pandas as pd\n",
    "\n",
    "# Assuming your data is in a DataFrame called df\n",
    "# Group by 'Year' and calculate the average of 'Death Rate Per 100,000'\n",
    "death_rate_per_year = df.groupby('Year')['Death Rate Per 100,000'].mean().reset_index()\n",
    "\n",
    "# Convert 'Death Rate Per 100,000' to 'Death Rate Per Million' by dividing by 10\n",
    "death_rate_per_year['Death Rate Per Million'] = death_rate_per_year['Death Rate Per 100,000'] / 10\n",
    "\n",
    "# Drop the original 'Death Rate Per 100,000' column if you don't need it\n",
    "death_rate_per_year.drop(columns=['Death Rate Per 100,000'], inplace=True)\n",
    "\n",
    "# Display the result\n",
    "print(death_rate_per_year)\n"
   ]
  },
  {
   "cell_type": "code",
   "execution_count": 27,
   "id": "53688c4c",
   "metadata": {},
   "outputs": [
    {
     "name": "stdout",
     "output_type": "stream",
     "text": [
      "Top 10 Countries with Highest Deaths:\n",
      "           Country Name  Number of Deaths\n",
      "75                India         188079240\n",
      "35                China         156849037\n",
      "178       United States          45128930\n",
      "138  Russian Federation          34541811\n",
      "76            Indonesia          28061221\n",
      "124             Nigeria          26624172\n",
      "13           Bangladesh          21570855\n",
      "128            Pakistan          21344898\n",
      "23               Brazil          19489395\n",
      "63              Germany          18111967\n"
     ]
    }
   ],
   "source": [
    "# Group by Country Name and sum the Number of Deaths\n",
    "country_deaths = df.groupby('Country Name')['Number of Deaths'].sum().reset_index()\n",
    "\n",
    "# Top 10 countries with the highest deaths\n",
    "top_countries = country_deaths.nlargest(10, 'Number of Deaths')\n",
    "\n",
    "# Display the data in table format\n",
    "print(\"Top 10 Countries with Highest Deaths:\")\n",
    "print(top_countries)\n"
   ]
  },
  {
   "cell_type": "code",
   "execution_count": 28,
   "id": "a0aae146",
   "metadata": {},
   "outputs": [
    {
     "name": "stdout",
     "output_type": "stream",
     "text": [
      "Top 10 Countries with Highest Deaths:\n",
      "           Country Name  Number of Deaths\n",
      "75                India         188079240\n",
      "35                China         156849037\n",
      "178       United States          45128930\n",
      "138  Russian Federation          34541811\n",
      "76            Indonesia          28061221\n",
      "124             Nigeria          26624172\n",
      "13           Bangladesh          21570855\n",
      "128            Pakistan          21344898\n",
      "23               Brazil          19489395\n",
      "63              Germany          18111967\n"
     ]
    }
   ],
   "source": [
    "# Clean and convert 'Number of Deaths' to numeric (remove commas, if any)\n",
    "df['Number of Deaths'] = df['Number of Deaths'].replace({',': ''}, regex=True)\n",
    "df['Number of Deaths'] = pd.to_numeric(df['Number of Deaths'], errors='coerce')\n",
    "\n",
    "# Group by Country Name and sum the Number of Deaths\n",
    "country_deaths = df.groupby('Country Name')['Number of Deaths'].sum().reset_index()\n",
    "\n",
    "# Top 10 countries with the highest deaths\n",
    "top_countries = country_deaths.nlargest(10, 'Number of Deaths')\n",
    "\n",
    "# Display the data in table format\n",
    "print(\"Top 10 Countries with Highest Deaths:\")\n",
    "print(top_countries)\n"
   ]
  },
  {
   "cell_type": "code",
   "execution_count": 29,
   "id": "37fccb81",
   "metadata": {},
   "outputs": [
    {
     "name": "stdout",
     "output_type": "stream",
     "text": [
      "Top 10 Countries with Highest Deaths (in millions):\n",
      "           Country Name  Number of Deaths\n",
      "75                India        188.079240\n",
      "35                China        156.849037\n",
      "178       United States         45.128930\n",
      "138  Russian Federation         34.541811\n",
      "76            Indonesia         28.061221\n",
      "124             Nigeria         26.624172\n",
      "13           Bangladesh         21.570855\n",
      "128            Pakistan         21.344898\n",
      "23               Brazil         19.489395\n",
      "63              Germany         18.111967\n"
     ]
    }
   ],
   "source": [
    "# Clean and convert 'Number of Deaths' to numeric (remove commas, if any)\n",
    "df['Number of Deaths'] = df['Number of Deaths'].replace({',': ''}, regex=True)\n",
    "df['Number of Deaths'] = pd.to_numeric(df['Number of Deaths'], errors='coerce')\n",
    "\n",
    "# Group by Country Name and sum the Number of Deaths\n",
    "country_deaths = df.groupby('Country Name')['Number of Deaths'].sum().reset_index()\n",
    "\n",
    "# Convert the Number of Deaths to millions\n",
    "country_deaths['Number of Deaths'] = country_deaths['Number of Deaths'] / 1_000_000\n",
    "\n",
    "# Top 10 countries with the highest deaths\n",
    "top_countries = country_deaths.nlargest(10, 'Number of Deaths')\n",
    "\n",
    "# Display the data in table format\n",
    "print(\"Top 10 Countries with Highest Deaths (in millions):\")\n",
    "print(top_countries)\n"
   ]
  },
  {
   "cell_type": "code",
   "execution_count": null,
   "id": "8f558e0e",
   "metadata": {},
   "outputs": [],
   "source": []
  }
 ],
 "metadata": {
  "kernelspec": {
   "display_name": "Python 3 (ipykernel)",
   "language": "python",
   "name": "python3"
  },
  "language_info": {
   "codemirror_mode": {
    "name": "ipython",
    "version": 3
   },
   "file_extension": ".py",
   "mimetype": "text/x-python",
   "name": "python",
   "nbconvert_exporter": "python",
   "pygments_lexer": "ipython3",
   "version": "3.9.12"
  }
 },
 "nbformat": 4,
 "nbformat_minor": 5
}
